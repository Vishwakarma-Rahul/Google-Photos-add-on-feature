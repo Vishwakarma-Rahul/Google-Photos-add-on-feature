{
 "cells": [
  {
   "cell_type": "code",
   "execution_count": 2,
   "metadata": {},
   "outputs": [
    {
     "name": "stdout",
     "output_type": "stream",
     "text": [
      "Enter the number of people you want together in a photo 2\n",
      "Salman\n",
      "Shahrukh\n",
      "img026.jpg\n",
      "img027.jpg\n",
      "img031.jpg\n",
      "img033.jpg\n",
      "img051.jpg\n",
      "img052.jpg\n",
      "img055.jpg\n"
     ]
    }
   ],
   "source": [
    "# -*- coding: utf-8 -*-\n",
    "\"\"\"\n",
    "Created on Sun July 8 15:51:20 2018\n",
    "\n",
    "__authors__ = \"Rahul Vishwakarma, Sairaj Hemachandran, and Rushabh Londhe\"\n",
    "__emails__ = \"rrvishwakarma12@gmail.com , hsairaj@gmail.com , RushabhLondhe7@gmail.com\"\n",
    "\"\"\"\n",
    "\n",
    "import os\n",
    "list_elements = []\n",
    "name = []\n",
    "n = int(input(\"Enter the number of people you want together in a photo \")) #The limit for the prototype is 5\n",
    "for i in range(n):\n",
    "    name.append(str(input()))\n",
    "    list_elements.append(os.listdir(\"/Google Photos New Feature/\" + str(name[i])))\n",
    "    \n",
    "d = dict((el,0) for el in list_elements[0])\n",
    "\n",
    "for i in range(1,n):\n",
    "    for j in list_elements[i]:\n",
    "        if not j in d:\n",
    "            d[j] = 0\n",
    "        else:\n",
    "            d[j] += 1\n",
    "            \n",
    "from PIL import Image\n",
    "for i in d:\n",
    "    if d[i] == n-1:\n",
    "        print(i)\n",
    "        image = Image.open(\"/Google Photos New Feature/\"+ str(name[0]) + \"/\" + str(i))\n",
    "        image.show()"
   ]
  },
  {
   "cell_type": "code",
   "execution_count": null,
   "metadata": {},
   "outputs": [],
   "source": []
  }
 ],
 "metadata": {
  "kernelspec": {
   "display_name": "Python 3",
   "language": "python",
   "name": "python3"
  },
  "language_info": {
   "codemirror_mode": {
    "name": "ipython",
    "version": 3
   },
   "file_extension": ".py",
   "mimetype": "text/x-python",
   "name": "python",
   "nbconvert_exporter": "python",
   "pygments_lexer": "ipython3",
   "version": "3.6.4"
  }
 },
 "nbformat": 4,
 "nbformat_minor": 2
}
